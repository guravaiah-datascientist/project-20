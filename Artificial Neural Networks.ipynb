{
 "cells": [
  {
   "cell_type": "code",
   "execution_count": 1,
   "id": "ff47ac0b",
   "metadata": {},
   "outputs": [],
   "source": [
    "import pandas as pd"
   ]
  },
  {
   "cell_type": "code",
   "execution_count": 2,
   "id": "3e0913b7",
   "metadata": {},
   "outputs": [
    {
     "data": {
      "text/html": [
       "<div>\n",
       "<style scoped>\n",
       "    .dataframe tbody tr th:only-of-type {\n",
       "        vertical-align: middle;\n",
       "    }\n",
       "\n",
       "    .dataframe tbody tr th {\n",
       "        vertical-align: top;\n",
       "    }\n",
       "\n",
       "    .dataframe thead th {\n",
       "        text-align: right;\n",
       "    }\n",
       "</style>\n",
       "<table border=\"1\" class=\"dataframe\">\n",
       "  <thead>\n",
       "    <tr style=\"text-align: right;\">\n",
       "      <th></th>\n",
       "      <th>Temperature</th>\n",
       "      <th>Pressure</th>\n",
       "      <th>Humidity</th>\n",
       "      <th>Vaccum</th>\n",
       "      <th>Energy</th>\n",
       "    </tr>\n",
       "  </thead>\n",
       "  <tbody>\n",
       "    <tr>\n",
       "      <th>0</th>\n",
       "      <td>14.96</td>\n",
       "      <td>1024.07</td>\n",
       "      <td>73.17</td>\n",
       "      <td>41.76</td>\n",
       "      <td>463.26</td>\n",
       "    </tr>\n",
       "    <tr>\n",
       "      <th>1</th>\n",
       "      <td>25.18</td>\n",
       "      <td>1020.04</td>\n",
       "      <td>59.08</td>\n",
       "      <td>62.96</td>\n",
       "      <td>444.37</td>\n",
       "    </tr>\n",
       "    <tr>\n",
       "      <th>2</th>\n",
       "      <td>5.11</td>\n",
       "      <td>1012.16</td>\n",
       "      <td>92.14</td>\n",
       "      <td>39.40</td>\n",
       "      <td>488.56</td>\n",
       "    </tr>\n",
       "    <tr>\n",
       "      <th>3</th>\n",
       "      <td>20.86</td>\n",
       "      <td>1010.24</td>\n",
       "      <td>76.64</td>\n",
       "      <td>57.32</td>\n",
       "      <td>446.48</td>\n",
       "    </tr>\n",
       "    <tr>\n",
       "      <th>4</th>\n",
       "      <td>10.82</td>\n",
       "      <td>1009.23</td>\n",
       "      <td>96.62</td>\n",
       "      <td>37.50</td>\n",
       "      <td>473.90</td>\n",
       "    </tr>\n",
       "    <tr>\n",
       "      <th>...</th>\n",
       "      <td>...</td>\n",
       "      <td>...</td>\n",
       "      <td>...</td>\n",
       "      <td>...</td>\n",
       "      <td>...</td>\n",
       "    </tr>\n",
       "    <tr>\n",
       "      <th>9563</th>\n",
       "      <td>16.65</td>\n",
       "      <td>1014.01</td>\n",
       "      <td>91.00</td>\n",
       "      <td>49.69</td>\n",
       "      <td>460.03</td>\n",
       "    </tr>\n",
       "    <tr>\n",
       "      <th>9564</th>\n",
       "      <td>13.19</td>\n",
       "      <td>1023.67</td>\n",
       "      <td>66.78</td>\n",
       "      <td>39.18</td>\n",
       "      <td>469.62</td>\n",
       "    </tr>\n",
       "    <tr>\n",
       "      <th>9565</th>\n",
       "      <td>31.32</td>\n",
       "      <td>1012.92</td>\n",
       "      <td>36.48</td>\n",
       "      <td>74.33</td>\n",
       "      <td>429.57</td>\n",
       "    </tr>\n",
       "    <tr>\n",
       "      <th>9566</th>\n",
       "      <td>24.48</td>\n",
       "      <td>1013.86</td>\n",
       "      <td>62.39</td>\n",
       "      <td>69.45</td>\n",
       "      <td>435.74</td>\n",
       "    </tr>\n",
       "    <tr>\n",
       "      <th>9567</th>\n",
       "      <td>21.60</td>\n",
       "      <td>1017.23</td>\n",
       "      <td>67.87</td>\n",
       "      <td>62.52</td>\n",
       "      <td>453.28</td>\n",
       "    </tr>\n",
       "  </tbody>\n",
       "</table>\n",
       "<p>9568 rows × 5 columns</p>\n",
       "</div>"
      ],
      "text/plain": [
       "      Temperature  Pressure  Humidity  Vaccum  Energy\n",
       "0           14.96   1024.07     73.17   41.76  463.26\n",
       "1           25.18   1020.04     59.08   62.96  444.37\n",
       "2            5.11   1012.16     92.14   39.40  488.56\n",
       "3           20.86   1010.24     76.64   57.32  446.48\n",
       "4           10.82   1009.23     96.62   37.50  473.90\n",
       "...           ...       ...       ...     ...     ...\n",
       "9563        16.65   1014.01     91.00   49.69  460.03\n",
       "9564        13.19   1023.67     66.78   39.18  469.62\n",
       "9565        31.32   1012.92     36.48   74.33  429.57\n",
       "9566        24.48   1013.86     62.39   69.45  435.74\n",
       "9567        21.60   1017.23     67.87   62.52  453.28\n",
       "\n",
       "[9568 rows x 5 columns]"
      ]
     },
     "execution_count": 2,
     "metadata": {},
     "output_type": "execute_result"
    }
   ],
   "source": [
    "df=pd.read_excel('Energy.xlsx')\n",
    "df"
   ]
  },
  {
   "cell_type": "code",
   "execution_count": 4,
   "id": "3f96bdd4",
   "metadata": {},
   "outputs": [
    {
     "name": "stdout",
     "output_type": "stream",
     "text": [
      "<class 'pandas.core.frame.DataFrame'>\n",
      "RangeIndex: 9568 entries, 0 to 9567\n",
      "Data columns (total 5 columns):\n",
      " #   Column       Non-Null Count  Dtype  \n",
      "---  ------       --------------  -----  \n",
      " 0   Temperature  9568 non-null   float64\n",
      " 1   Pressure     9568 non-null   float64\n",
      " 2   Humidity     9568 non-null   float64\n",
      " 3   Vaccum       9568 non-null   float64\n",
      " 4   Energy       9568 non-null   float64\n",
      "dtypes: float64(5)\n",
      "memory usage: 373.9 KB\n"
     ]
    }
   ],
   "source": [
    "df.info()"
   ]
  },
  {
   "cell_type": "code",
   "execution_count": 5,
   "id": "7053f569",
   "metadata": {},
   "outputs": [
    {
     "data": {
      "text/plain": [
       "41"
      ]
     },
     "execution_count": 5,
     "metadata": {},
     "output_type": "execute_result"
    }
   ],
   "source": [
    "df.duplicated().sum()"
   ]
  },
  {
   "cell_type": "code",
   "execution_count": 6,
   "id": "a38360bb",
   "metadata": {},
   "outputs": [],
   "source": [
    "df.drop_duplicates(inplace=True)"
   ]
  },
  {
   "cell_type": "code",
   "execution_count": 7,
   "id": "e1440c09",
   "metadata": {},
   "outputs": [],
   "source": [
    "x=df.drop('Energy',axis=1)\n",
    "y=df['Energy']"
   ]
  },
  {
   "cell_type": "code",
   "execution_count": 8,
   "id": "7fd846f6",
   "metadata": {},
   "outputs": [],
   "source": [
    "from sklearn.model_selection import train_test_split\n",
    "x_train,x_test,y_train,y_test=train_test_split(x,y,test_size=0.2,random_state=42)"
   ]
  },
  {
   "cell_type": "code",
   "execution_count": 9,
   "id": "b8c9b127",
   "metadata": {},
   "outputs": [],
   "source": [
    "from sklearn.preprocessing import StandardScaler\n",
    "sc=StandardScaler()\n",
    "x_train=sc.fit_transform(x_train)\n",
    "x_test=sc.transform(x_test)"
   ]
  },
  {
   "cell_type": "code",
   "execution_count": 10,
   "id": "7e79a814",
   "metadata": {},
   "outputs": [],
   "source": [
    "import keras"
   ]
  },
  {
   "cell_type": "code",
   "execution_count": 11,
   "id": "12568a17",
   "metadata": {},
   "outputs": [],
   "source": [
    "from keras.models import Sequential\n",
    "from keras.layers import Dense"
   ]
  },
  {
   "cell_type": "code",
   "execution_count": 13,
   "id": "85b59f32",
   "metadata": {},
   "outputs": [
    {
     "name": "stdout",
     "output_type": "stream",
     "text": [
      "Epoch 1/100\n",
      "239/239 [==============================] - 1s 2ms/step - loss: 206077.2500\n",
      "Epoch 2/100\n",
      "239/239 [==============================] - 1s 3ms/step - loss: 196791.8281\n",
      "Epoch 3/100\n",
      "239/239 [==============================] - 0s 2ms/step - loss: 165251.0000\n",
      "Epoch 4/100\n",
      "239/239 [==============================] - 0s 2ms/step - loss: 117957.1562\n",
      "Epoch 5/100\n",
      "239/239 [==============================] - 1s 2ms/step - loss: 78938.3594\n",
      "Epoch 6/100\n",
      "239/239 [==============================] - 1s 2ms/step - loss: 56334.2344\n",
      "Epoch 7/100\n",
      "239/239 [==============================] - 0s 2ms/step - loss: 39985.6172\n",
      "Epoch 8/100\n",
      "239/239 [==============================] - 0s 2ms/step - loss: 25898.5566\n",
      "Epoch 9/100\n",
      "239/239 [==============================] - 0s 2ms/step - loss: 14833.4170\n",
      "Epoch 10/100\n",
      "239/239 [==============================] - 0s 2ms/step - loss: 7729.5088\n",
      "Epoch 11/100\n",
      "239/239 [==============================] - 0s 2ms/step - loss: 4498.3926\n",
      "Epoch 12/100\n",
      "239/239 [==============================] - 0s 2ms/step - loss: 3296.5906\n",
      "Epoch 13/100\n",
      "239/239 [==============================] - 0s 2ms/step - loss: 2647.5566\n",
      "Epoch 14/100\n",
      "239/239 [==============================] - 0s 2ms/step - loss: 2210.5112\n",
      "Epoch 15/100\n",
      "239/239 [==============================] - 0s 2ms/step - loss: 1883.6561\n",
      "Epoch 16/100\n",
      "239/239 [==============================] - 0s 2ms/step - loss: 1625.2708\n",
      "Epoch 17/100\n",
      "239/239 [==============================] - 1s 2ms/step - loss: 1407.4680\n",
      "Epoch 18/100\n",
      "239/239 [==============================] - 0s 2ms/step - loss: 1219.5347\n",
      "Epoch 19/100\n",
      "239/239 [==============================] - 0s 2ms/step - loss: 1051.0323\n",
      "Epoch 20/100\n",
      "239/239 [==============================] - 0s 2ms/step - loss: 901.3105\n",
      "Epoch 21/100\n",
      "239/239 [==============================] - 1s 3ms/step - loss: 765.9877\n",
      "Epoch 22/100\n",
      "239/239 [==============================] - 1s 2ms/step - loss: 645.2540\n",
      "Epoch 23/100\n",
      "239/239 [==============================] - 1s 3ms/step - loss: 537.3577\n",
      "Epoch 24/100\n",
      "239/239 [==============================] - 0s 2ms/step - loss: 443.0070\n",
      "Epoch 25/100\n",
      "239/239 [==============================] - 1s 2ms/step - loss: 360.8726\n",
      "Epoch 26/100\n",
      "239/239 [==============================] - 1s 2ms/step - loss: 290.9584\n",
      "Epoch 27/100\n",
      "239/239 [==============================] - 0s 2ms/step - loss: 230.8514\n",
      "Epoch 28/100\n",
      "239/239 [==============================] - 1s 2ms/step - loss: 179.9833\n",
      "Epoch 29/100\n",
      "239/239 [==============================] - 0s 2ms/step - loss: 138.1067\n",
      "Epoch 30/100\n",
      "239/239 [==============================] - 1s 2ms/step - loss: 104.1344\n",
      "Epoch 31/100\n",
      "239/239 [==============================] - 1s 2ms/step - loss: 77.2648\n",
      "Epoch 32/100\n",
      "239/239 [==============================] - 0s 2ms/step - loss: 58.1499\n",
      "Epoch 33/100\n",
      "239/239 [==============================] - 1s 2ms/step - loss: 44.9090\n",
      "Epoch 34/100\n",
      "239/239 [==============================] - 0s 2ms/step - loss: 35.9749\n",
      "Epoch 35/100\n",
      "239/239 [==============================] - 1s 2ms/step - loss: 30.2658\n",
      "Epoch 36/100\n",
      "239/239 [==============================] - 1s 2ms/step - loss: 26.8530\n",
      "Epoch 37/100\n",
      "239/239 [==============================] - 1s 2ms/step - loss: 24.9214\n",
      "Epoch 38/100\n",
      "239/239 [==============================] - 1s 2ms/step - loss: 23.6884\n",
      "Epoch 39/100\n",
      "239/239 [==============================] - 1s 2ms/step - loss: 22.9584\n",
      "Epoch 40/100\n",
      "239/239 [==============================] - 1s 2ms/step - loss: 22.3844\n",
      "Epoch 41/100\n",
      "239/239 [==============================] - 1s 2ms/step - loss: 22.1725\n",
      "Epoch 42/100\n",
      "239/239 [==============================] - 1s 2ms/step - loss: 21.8412\n",
      "Epoch 43/100\n",
      "239/239 [==============================] - 0s 2ms/step - loss: 21.6944\n",
      "Epoch 44/100\n",
      "239/239 [==============================] - 1s 2ms/step - loss: 21.5755\n",
      "Epoch 45/100\n",
      "239/239 [==============================] - 0s 2ms/step - loss: 21.5459\n",
      "Epoch 46/100\n",
      "239/239 [==============================] - 0s 2ms/step - loss: 21.3592\n",
      "Epoch 47/100\n",
      "239/239 [==============================] - 0s 2ms/step - loss: 21.4046\n",
      "Epoch 48/100\n",
      "239/239 [==============================] - 0s 2ms/step - loss: 21.3542\n",
      "Epoch 49/100\n",
      "239/239 [==============================] - 0s 2ms/step - loss: 21.3026\n",
      "Epoch 50/100\n",
      "239/239 [==============================] - 0s 2ms/step - loss: 21.2292\n",
      "Epoch 51/100\n",
      "239/239 [==============================] - 0s 2ms/step - loss: 21.5098\n",
      "Epoch 52/100\n",
      "239/239 [==============================] - 1s 2ms/step - loss: 21.4223\n",
      "Epoch 53/100\n",
      "239/239 [==============================] - 0s 2ms/step - loss: 21.1266\n",
      "Epoch 54/100\n",
      "239/239 [==============================] - 0s 2ms/step - loss: 21.1640\n",
      "Epoch 55/100\n",
      "239/239 [==============================] - 0s 2ms/step - loss: 21.1107\n",
      "Epoch 56/100\n",
      "239/239 [==============================] - 0s 2ms/step - loss: 21.1466\n",
      "Epoch 57/100\n",
      "239/239 [==============================] - 1s 2ms/step - loss: 21.2642\n",
      "Epoch 58/100\n",
      "239/239 [==============================] - 1s 2ms/step - loss: 21.1782\n",
      "Epoch 59/100\n",
      "239/239 [==============================] - 1s 2ms/step - loss: 21.1904\n",
      "Epoch 60/100\n",
      "239/239 [==============================] - 0s 2ms/step - loss: 21.1685\n",
      "Epoch 61/100\n",
      "239/239 [==============================] - 1s 3ms/step - loss: 21.0738\n",
      "Epoch 62/100\n",
      "239/239 [==============================] - 1s 2ms/step - loss: 21.1124\n",
      "Epoch 63/100\n",
      "239/239 [==============================] - 1s 2ms/step - loss: 20.9884\n",
      "Epoch 64/100\n",
      "239/239 [==============================] - 0s 2ms/step - loss: 21.1780\n",
      "Epoch 65/100\n",
      "239/239 [==============================] - 1s 2ms/step - loss: 21.1890\n",
      "Epoch 66/100\n",
      "239/239 [==============================] - 0s 2ms/step - loss: 21.1015\n",
      "Epoch 67/100\n",
      "239/239 [==============================] - 0s 2ms/step - loss: 21.1705\n",
      "Epoch 68/100\n",
      "239/239 [==============================] - 1s 2ms/step - loss: 21.0466\n",
      "Epoch 69/100\n",
      "239/239 [==============================] - 1s 2ms/step - loss: 21.0740\n",
      "Epoch 70/100\n",
      "239/239 [==============================] - 1s 2ms/step - loss: 21.0362\n",
      "Epoch 71/100\n",
      "239/239 [==============================] - 0s 2ms/step - loss: 21.0494\n",
      "Epoch 72/100\n",
      "239/239 [==============================] - 1s 2ms/step - loss: 21.1286\n",
      "Epoch 73/100\n",
      "239/239 [==============================] - 0s 2ms/step - loss: 21.0319\n",
      "Epoch 74/100\n",
      "239/239 [==============================] - 1s 2ms/step - loss: 21.1179\n",
      "Epoch 75/100\n",
      "239/239 [==============================] - 1s 2ms/step - loss: 21.1299\n",
      "Epoch 76/100\n",
      "239/239 [==============================] - 0s 2ms/step - loss: 21.1677\n",
      "Epoch 77/100\n",
      "239/239 [==============================] - 0s 2ms/step - loss: 21.1202\n",
      "Epoch 78/100\n",
      "239/239 [==============================] - 1s 2ms/step - loss: 21.1182\n",
      "Epoch 79/100\n",
      "239/239 [==============================] - 0s 2ms/step - loss: 21.1920\n",
      "Epoch 80/100\n",
      "239/239 [==============================] - 0s 2ms/step - loss: 21.0813\n",
      "Epoch 81/100\n",
      "239/239 [==============================] - 1s 2ms/step - loss: 21.1379\n",
      "Epoch 82/100\n",
      "239/239 [==============================] - 1s 2ms/step - loss: 21.1722\n",
      "Epoch 83/100\n",
      "239/239 [==============================] - 0s 2ms/step - loss: 21.1614\n",
      "Epoch 84/100\n",
      "239/239 [==============================] - 1s 2ms/step - loss: 21.1414\n",
      "Epoch 85/100\n",
      "239/239 [==============================] - 0s 2ms/step - loss: 21.1020\n",
      "Epoch 86/100\n",
      "239/239 [==============================] - 0s 2ms/step - loss: 21.1417\n",
      "Epoch 87/100\n",
      "239/239 [==============================] - 1s 2ms/step - loss: 21.0474\n",
      "Epoch 88/100\n",
      "239/239 [==============================] - 1s 3ms/step - loss: 21.0345\n",
      "Epoch 89/100\n",
      "239/239 [==============================] - 1s 2ms/step - loss: 21.1035\n",
      "Epoch 90/100\n",
      "239/239 [==============================] - 1s 2ms/step - loss: 21.1124\n",
      "Epoch 91/100\n",
      "239/239 [==============================] - 1s 2ms/step - loss: 21.1273\n",
      "Epoch 92/100\n",
      "239/239 [==============================] - 1s 2ms/step - loss: 21.0689\n",
      "Epoch 93/100\n",
      "239/239 [==============================] - 1s 2ms/step - loss: 21.0543\n",
      "Epoch 94/100\n",
      "239/239 [==============================] - 1s 2ms/step - loss: 21.0270\n",
      "Epoch 95/100\n",
      "239/239 [==============================] - 1s 2ms/step - loss: 21.0057\n",
      "Epoch 96/100\n",
      "239/239 [==============================] - 1s 2ms/step - loss: 21.0702\n",
      "Epoch 97/100\n",
      "239/239 [==============================] - 1s 3ms/step - loss: 21.1872\n",
      "Epoch 98/100\n",
      "239/239 [==============================] - 1s 3ms/step - loss: 21.1462\n",
      "Epoch 99/100\n",
      "239/239 [==============================] - 1s 3ms/step - loss: 21.0784\n",
      "Epoch 100/100\n",
      "239/239 [==============================] - 1s 3ms/step - loss: 21.0890\n"
     ]
    },
    {
     "data": {
      "text/plain": [
       "<keras.callbacks.History at 0x2934a67e5b0>"
      ]
     },
     "execution_count": 13,
     "metadata": {},
     "output_type": "execute_result"
    }
   ],
   "source": [
    "model=Sequential()\n",
    "model.add(Dense(input_dim=4,units=6,activation='relu',kernel_initializer='uniform'))\n",
    "model.add(Dense(units=6,activation='relu',kernel_initializer='uniform'))\n",
    "model.add(Dense(units=1,activation='relu',kernel_initializer='uniform'))\n",
    "model.compile(optimizer='adam',loss='mean_squared_error')\n",
    "model.fit(x_train,y_train,epochs=100,batch_size=32)"
   ]
  },
  {
   "cell_type": "code",
   "execution_count": 16,
   "id": "b019faf3",
   "metadata": {},
   "outputs": [
    {
     "name": "stdout",
     "output_type": "stream",
     "text": [
      "239/239 [==============================] - 0s 2ms/step\n"
     ]
    }
   ],
   "source": [
    "ypred_train=model.predict(x_train)"
   ]
  },
  {
   "cell_type": "code",
   "execution_count": 17,
   "id": "ba49e030",
   "metadata": {},
   "outputs": [
    {
     "name": "stdout",
     "output_type": "stream",
     "text": [
      "60/60 [==============================] - 0s 2ms/step\n"
     ]
    }
   ],
   "source": [
    "ypred_test=model.predict(x_test)"
   ]
  },
  {
   "cell_type": "code",
   "execution_count": 18,
   "id": "e9078583",
   "metadata": {},
   "outputs": [
    {
     "name": "stdout",
     "output_type": "stream",
     "text": [
      "rmse for train data: 20.91619830704709\n",
      "rmse for test data: 21.246190658226066\n"
     ]
    }
   ],
   "source": [
    "from sklearn.metrics import mean_squared_error\n",
    "print('rmse for train data:',mean_squared_error(y_train,ypred_train))\n",
    "print('rmse for test data:',mean_squared_error(y_test,ypred_test))"
   ]
  },
  {
   "cell_type": "code",
   "execution_count": 19,
   "id": "614a2454",
   "metadata": {},
   "outputs": [
    {
     "name": "stdout",
     "output_type": "stream",
     "text": [
      "train r2: 0.9277258660002055\n",
      "test r2: 0.9277079620489624\n"
     ]
    }
   ],
   "source": [
    "from sklearn.metrics import r2_score\n",
    "print('train r2:',r2_score(y_train,ypred_train))\n",
    "print('test r2:',r2_score(y_test,ypred_test))"
   ]
  },
  {
   "cell_type": "code",
   "execution_count": null,
   "id": "aa2615bd",
   "metadata": {},
   "outputs": [],
   "source": []
  }
 ],
 "metadata": {
  "kernelspec": {
   "display_name": "Python 3 (ipykernel)",
   "language": "python",
   "name": "python3"
  },
  "language_info": {
   "codemirror_mode": {
    "name": "ipython",
    "version": 3
   },
   "file_extension": ".py",
   "mimetype": "text/x-python",
   "name": "python",
   "nbconvert_exporter": "python",
   "pygments_lexer": "ipython3",
   "version": "3.9.13"
  }
 },
 "nbformat": 4,
 "nbformat_minor": 5
}
